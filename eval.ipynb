{
 "cells": [
  {
   "cell_type": "code",
   "execution_count": 1,
   "id": "4fa15f28-b981-4875-892a-0e14f0cca48b",
   "metadata": {
    "tags": []
   },
   "outputs": [],
   "source": [
    "import torch\n",
    "from dataset import ru_preprocess,train_dataset, BOS_IDX,EOS_IDX,UNK_IDX,PAD_IDX,ru_vocab\n",
    "from config import DEVICE,SEQ_MAX_LEN\n",
    "\n",
    "# de翻译到en\n",
    "def translate(transformer,ru_sentence):\n",
    "    # Ru分词\n",
    "    ru_tokens,ru_ids=ru_preprocess(ru_sentence)\n",
    "    if len(ru_tokens)>SEQ_MAX_LEN:\n",
    "        raise Exception('不支持超过{}的句子'.format(SEQ_MAX_LEN))\n",
    "\n",
    "    # Encoder阶段\n",
    "    enc_x_batch=torch.tensor([ru_ids],dtype=torch.long).to(DEVICE)      # 准备encoder输入\n",
    "    encoder_z=transformer.encode(enc_x_batch)    # encoder编码\n",
    "\n",
    "    # Decoder阶段\n",
    "    ru_token_ids=[BOS_IDX] # 翻译结果\n",
    "    while len(ru_token_ids)<SEQ_MAX_LEN:\n",
    "        dec_x_batch=torch.tensor([ru_token_ids],dtype=torch.long).to(DEVICE)  # 准备decoder输入\n",
    "        decoder_z=transformer.decode(dec_x_batch,encoder_z,enc_x_batch)   # decoder解碼\n",
    "        next_token_probs=decoder_z[0,dec_x_batch.size(-1)-1,:]    # 序列下一个词的概率\n",
    "        next_token_id=torch.argmax(next_token_probs)    # 下一个词ID\n",
    "        ru_token_ids.append(next_token_id)\n",
    "\n",
    "        if next_token_id==EOS_IDX:  # 结束符\n",
    "            break\n",
    "\n",
    "    # 生成翻译结果\n",
    "    ru_token_ids=[id for id in ru_token_ids if id not in [BOS_IDX,EOS_IDX,UNK_IDX,PAD_IDX]] # 忽略特殊字符\n",
    "    ru_tokens=ru_vocab.lookup_tokens(ru_token_ids)    # 词id序列转token序列\n",
    "    return ' '.join(ru_tokens)\n",
    "\n",
    "\n",
    "if __name__=='__main__':\n",
    "    # 加载模型\n",
    "    transformer=torch.load('checkpoint/model.pth')\n",
    "    transformer.eval()"
   ]
  },
  {
   "cell_type": "code",
   "execution_count": 2,
   "id": "ba8099c5-5978-4eab-a1ec-a98dcfff57f7",
   "metadata": {
    "tags": []
   },
   "outputs": [
    {
     "name": "stdout",
     "output_type": "stream",
     "text": [
      "My brother has a dog. -> У моего брата есть собака. -> Она довольно хорошая больница .\n",
      "Let's not talk shop, OK? -> Не будем говорить о работе, ладно? -> Ты всегда знает , что Том занят тебя слышал ?\n",
      "When Tom woke up, everything was covered with snow. -> Когда Том проснулся, всё было усыпано снегом. -> Что Вы , чтобы Том попросил Мэри об этом раньше .\n",
      "Do you really think I can help you? -> Ты правда думаешь, что я могу тебе помочь? -> Что Вы собираетесь , кому занят вчера тебя слышал .\n",
      "It was very hot inside the bus. -> В автобусе было очень жарко. -> Что Вы были десять долларов с тобой .\n",
      "I really don't think that's necessary. -> Я правда не думаю, что это необходимо. -> Что будете Мэри о своём город .\n",
      "It isn't as cold here as in Alaska. -> Здесь не так холодно, как на Аляске. -> Что Вы были десять долларов с тобой .\n",
      "I think it is a gift. -> По-моему, это подарок. -> Что будете Мэри о своём город .\n",
      "I'll see you next month. -> Увидимся в следующем месяце. -> Она довольно хорошая больница .\n",
      "How much would you charge to paint my house? -> Сколько вы берёте за покраску дома? -> Что Вы собираетесь , чем я не слышал эту песню о своём моего дядю .\n",
      "I compared notes with Tom. -> Я сравнил наши с Томом записи. -> Что будете Мэри о своём .\n",
      "Can I open the curtain? -> Могу я открыть занавеску? -> Что ты знаешь о Томе нравится делать ?\n",
      "We're still trying to determine what happened. -> Мы всё ещё пытаемся определить, что произошло. -> Что Вы были десять долларов с тобой .\n",
      "Most people can't tell the difference. -> Большинство людей не видят разницы. -> Она довольно Вы меня это делать .\n",
      "I haven't been following the news lately. -> Я не следил за новостями в последнее время. -> Что будете Мэри о своём город .\n",
      "He intends to visit his uncle. -> Он собирается навестить дядю. -> Она довольно Вы меня это делать .\n",
      "After drinking three bottles of beer, Tom fell asleep. -> Выпив три бутылки пива, Том заснул. -> Том знает , кому занят были десять долларов .\n",
      "Tom will eventually give up. -> Том в конце концов сдастся. -> Она довольно хорошая больница .\n",
      "Tom leaned back in his chair and stared at Mary. -> Том откинулся в кресле и уставился на Мэри. -> Что Вы были десять долларов с тобой .\n",
      "Tom went over to talk to Mary. -> Том пошел поговорить с Мэри. -> Что Вы были десять долларов с тобой .\n",
      "Hey, what're you hiding behind your back? -> Эй, что ты прячешь за спиной? -> Ты кому Тома довольно говорил , чем я говорил тебе больше времени ?\n",
      "Thank you for calling Tom. -> Спасибо, что позвал Тома. -> Она довольно хорошая больница .\n",
      "I've written to Tom. -> Я написал Тому. -> Она довольно хорошая больница .\n",
      "You're never here. -> Тебя никогда здесь не бывает. -> Она довольно хорошая .\n",
      "The bride highly resented being dumped at the altar. -> Невесте было очень обидно, что её бросили у алтаря. -> Что Вы были десять долларов с тобой .\n",
      "Tom told Mary to study harder. -> Том сказал Мэри учиться упорнее. -> Она довольно Вы меня это делать .\n",
      "He seems to be rich. -> Он кажется богатым. -> Она довольно хорошая больница .\n",
      "Do you have to leave? -> Тебе надо уходить? -> Ты кому занят вчера тебя слышал эту песню .\n",
      "I enjoy traveling. -> Мне нравится путешествовать. -> Такие вещи происходят .\n",
      "He is mad about you. -> Он от тебя без ума. -> Она довольно хорошая больница .\n",
      "Tom has twice as many books as I do. -> У Тома в два раза больше книг, чем у меня. -> Что Вы собираетесь уже десять долларов с моего рождения .\n",
      "It's going to take a few days. -> Это займёт несколько дней. -> Что Вы были десять долларов с тобой .\n",
      "What's this got to do with Tom? -> Какое отношение это имеет к Тому? -> Ты кому занят , кому тебе надо мной довольно десять долларов .\n",
      "He is lying. -> Он врёт. -> Она довольно хорошая .\n",
      "He is doing it with my help. -> Он делает это без моей помощи. -> Что Вы были десять долларов с тобой .\n",
      "Is that all Tom does? -> Это всё, что Том делает? -> Ты кому занят вчера тебя слышал эту песню .\n",
      "This won't take long. -> Это не займёт много времени. -> Она довольно хорошая больница .\n",
      "I explained to Tom what needed to be done. -> Я объяснил Тому, что нужно сделать. -> Что Вы собираетесь уже десять долларов с моего рождения .\n",
      "You're really dirty. -> Ты очень грязный. -> Она довольно хорошая .\n",
      "Tom didn't know that it was Mary's birthday. -> Том не знал, что у Мэри день рождения. -> Что Вы были десять долларов с тобой .\n",
      "How can this be stopped? -> Как это можно остановить? -> Ты кому занят вчера тебя слышал эту песню .\n",
      "I'm not picky. -> Я не привередливый. -> Она довольно хорошая .\n",
      "Is there much sugar in the jar? -> В банке много сахара? -> Ты кому занят вчера тебя слышал эту песню о своём десять долларов .\n",
      "It is stipulated that we should receive a month's vacation every year. -> Предусмотрен ежегодный отпуск продолжительностью один месяц. -> Что Вы уже десять долларов с моего рождения .\n",
      "Tom forgot Mary's phone number. -> Том забыл телефон Мэри. -> Она довольно Вы меня это делать .\n",
      "She's only interested in fish and cockroaches. -> Её интересуют только рыбы и тараканы. -> Что Вы были десять долларов с тобой .\n",
      "I want to go home. -> Я хочу домой. -> Что будете Мэри о своём .\n",
      "Nagoya is a city which is famous for its castle. -> Нагоя — это город, известный своим замком. -> Что Вы были десять долларов с тобой .\n",
      "I'll get ice. -> Я схожу за льдом. -> Она довольно хорошая .\n",
      "I didn't know somebody was following me. -> Я не знал, что за мной кто-то идёт. -> Что будете Мэри о своём город .\n",
      "Tom wanted advice from Mary. -> Том хотел от Мэри совета. -> Она довольно хорошая больница .\n",
      "Tom let Mary drive his new car. -> Том пустил Мэри за руль своей новой машины. -> Что Вы были десять долларов с тобой .\n",
      "Her books sell pretty well. -> Её книги продаются очень хорошо. -> Она довольно хорошая больница .\n",
      "That diamond ring cost an arm and a leg. -> Это бриллиантовое кольцо стоило бешеных денег. -> Что Вы были десять долларов с тобой .\n",
      "Tom cut the apple in two. -> Том разрезал яблоко пополам. -> Она довольно Вы меня это делать .\n",
      "I'll sleep on the couch. -> Посплю на диване. -> Она довольно хорошая больница .\n",
      "I'd like to check your blood pressure. -> Я бы хотел проверить твоё кровяное давление. -> Что Вы были десять долларов с тобой .\n",
      "Tell me his name. -> Скажи мне его имя. -> Она довольно хорошая больница .\n",
      "I sent Tom a message. -> Я отправил Тому сообщение. -> Что будете Мэри о своём .\n",
      "He tends to be arrogant. -> Он склонен к высокомерию. -> Она довольно хорошая больница .\n",
      "The wedding will take place in three months. -> Свадьба состоится через три месяца. -> Что Вы были десять долларов с тобой .\n",
      "If I help you, will you help me? -> Если я тебе помогу, ты мне поможешь? -> Что ты знаешь о Томе такого , где Том сказал тебе , где Том это делать .\n",
      "Tom still uses a typewriter. -> Том до сих пор пользуется печатной машинкой. -> Она довольно хорошая больница .\n",
      "You don't have to know all the details. -> Ты не должен знать всех подробностей. -> Что Вы были десять долларов с тобой .\n",
      "Why did they change their minds? -> Почему они передумали? -> Ты кому занят вчера тебя слышал эту песню о своём десять долларов .\n",
      "I imagined my first kiss would be more romantic. -> Я представлял себе свой первый поцелуй более романтичным. -> Что Вы собираетесь уже десять долларов с моего рождения .\n",
      "Tom doesn't know if Mary will come. -> Том не знает, придёт ли Мэри. -> Что Вы были десять долларов с тобой .\n",
      "Tom's parents told Tom not to do that. -> Родители Тома велели ему этого не делать. -> Что Вы были десять долларов с тобой .\n",
      "I asked Tom where he got that. -> Я спросил Тома, откуда это у него. -> Что будете Мэри о своём город .\n",
      "They stood there. -> Они стояли там. -> Она довольно хорошая .\n",
      "What're you referring to? -> Что ты имеешь в виду? -> Ты кому тебе больше времени спать .\n",
      "I took care of Tom. -> Я заботился о Томе. -> Что будете Мэри о своём .\n",
      "Tom, would you mind lending me ten dollars? -> Том, не одолжишь десять долларов? -> Что ты знаешь о Томе такого , где Том Том сказал тебе это делать .\n",
      "I have lost face completely. -> Я совершенно потерял лицо. -> Что будете Мэри о своём .\n",
      "I was wet. -> Я был мокрый. -> Такие вещи происходят .\n",
      "I knew that he was reading. -> Я знал, что он читает. -> Что будете Мэри о своём город .\n",
      "She laughed and gave me a playful shove. -> Она засмеялась и играючи меня толкнула. -> Что Вы были десять долларов с тобой .\n",
      "I'm sick of your excuses, Tom. -> Мне надоели твои извинения, Том. -> Том знает , как занят это занят .\n",
      "Aren't you going to go anywhere this summer? -> Ты никуда этим летом не собираешься? -> Ты кому занят , кому тебе надо мной довольно десять долларов .\n",
      "I seem to have lost my appetite. -> Кажется, у меня пропал аппетит. -> Что будете Мэри о своём город .\n",
      "I should've told Tom no. -> Мне надо было сказать Тому нет. -> Что будете Мэри о своём .\n",
      "Tom is worried about being sued. -> Том обеспокоен предъявленным иском. -> Она довольно Вы меня это делать .\n",
      "How do you know how heavy it is? -> Откуда ты знаешь, сколько это весит? -> Ты кому занят , кому тебе надо мной довольно десять долларов .\n",
      "If it ain't broke, don't fix it. -> Не сломалось - не чини. -> Том знает , кому занят были десять долларов .\n",
      "It's too bright to sleep. -> Слишком ярко, чтобы можно было заснуть. -> Она довольно Вы меня это делать .\n",
      "I know Tom is taller than Mary. -> Я знаю, что Том выше Мэри. -> Что будете Мэри о своём город .\n",
      "He jumped to the conclusion that I had done it. -> Он сразу же решил, что это сделал я. -> Что Вы собираетесь уже десять долларов с моего рождения .\n",
      "I heard about what happened. -> Я слышал о том, что случилось. -> Что будете Мэри о своём .\n",
      "I've only known Tom for a few months. -> Я знал Тома всего несколько месяцев. -> Что Вы были десять долларов с тобой .\n",
      "I know the rules. -> Я знаю правила. -> Что будете Мэри о своём .\n",
      "Were it not for music, the world would be a dull place. -> Не будь музыки, мир был бы серым местом. -> Что Вы , чтобы Том попросил Мэри уже слышал эту песню о чем .\n",
      "Tom is on duty tonight. -> Том сегодня вечером дежурит. -> Она довольно хорошая больница .\n",
      "The food didn't look very appetizing. -> Еда выглядела не очень аппетитно. -> Она довольно Вы меня это делать .\n",
      "Tom came to Boston, too. -> Том тоже приехал в Бостон. -> Том знает , как занят .\n",
      "Tom is the author of three books. -> Том - автор трёх книг. -> Что Вы были десять долларов с тобой .\n",
      "We're sorry that it happened. -> Мы сожалеем, что это произошло. -> Она довольно хорошая больница .\n",
      "This isn't silver. -> Это не серебро. -> Она довольно хорошая .\n",
      "Tom made Mary swim. -> Том заставил Мэри плыть. -> Она довольно хорошая больница .\n",
      "There are seven continents on the earth. -> На Земле семь континентов. -> Что Вы были десять долларов с тобой .\n",
      "Is it for me? -> Это мне? -> Ты кому тебе больше времени спать .\n"
     ]
    }
   ],
   "source": [
    "for i in range(100):\n",
    "        en,ru=train_dataset[i]\n",
    "        ru1=translate(transformer,en)\n",
    "        print('{} -> {} -> {}'.format(en,ru,ru1))"
   ]
  },
  {
   "cell_type": "code",
   "execution_count": 4,
   "id": "c14e57ba-3067-45ad-83fd-b489058d4868",
   "metadata": {
    "tags": []
   },
   "outputs": [
    {
     "name": "stdout",
     "output_type": "stream",
     "text": [
      "Hi ! -> Я работаю быстро\n"
     ]
    }
   ],
   "source": [
    "en = 'Hi !'\n",
    "ru1=translate(transformer,en)\n",
    "print('{} -> {}'.format(en,ru1))"
   ]
  },
  {
   "cell_type": "code",
   "execution_count": 5,
   "id": "2c7fdfbd-df88-4a44-a2d3-d1fcc000e2b6",
   "metadata": {
    "tags": []
   },
   "outputs": [
    {
     "name": "stdout",
     "output_type": "stream",
     "text": [
      "I love you. -> Такие вещи происходят .\n"
     ]
    }
   ],
   "source": [
    "en = 'I love you.'\n",
    "ru1=translate(transformer,en)\n",
    "print('{} -> {}'.format(en,ru1))"
   ]
  }
 ],
 "metadata": {
  "kernelspec": {
   "display_name": "base",
   "language": "python",
   "name": "base"
  },
  "language_info": {
   "codemirror_mode": {
    "name": "ipython",
    "version": 3
   },
   "file_extension": ".py",
   "mimetype": "text/x-python",
   "name": "python",
   "nbconvert_exporter": "python",
   "pygments_lexer": "ipython3",
   "version": "3.8.10"
  }
 },
 "nbformat": 4,
 "nbformat_minor": 5
}
